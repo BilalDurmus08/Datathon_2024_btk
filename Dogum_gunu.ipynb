{
 "cells": [
  {
   "cell_type": "code",
   "execution_count": 1,
   "id": "4196a785-8391-4759-b8dc-36f3b6694b2d",
   "metadata": {},
   "outputs": [],
   "source": [
    "import pandas as pd\n",
    "import sklearn\n",
    "import numpy as np\n",
    "import matplotlib.pyplot as plt\n",
    "import seaborn as sns"
   ]
  },
  {
   "cell_type": "code",
   "execution_count": 4,
   "id": "ab858752-8e72-47e9-b0ec-39d62d1eb317",
   "metadata": {},
   "outputs": [],
   "source": [
    "train = pd.read_csv('datas/train.csv', low_memory=False)\n",
    "test = pd.read_csv('datas/test_x.csv', low_memory=False)"
   ]
  },
  {
   "cell_type": "markdown",
   "id": "a9efdd83-96b3-457d-91c4-f56ee09c7ac4",
   "metadata": {},
   "source": [
    "* G/A/Y >>> 23/5/2020\n",
    "* G Kasim Y >>> 23 5 2020\n",
    "* G-Jun-Y(93) >>> 23-Jun-99\n",
    "* Y-A-G >>> 2020-5-23\n",
    "* G/A/Y(99) 0:00 >>> 23/5/99 0:00\n",
    "* G.A.Y(2000) 00:00 >>> 23.5.2000 00:00\n",
    "* The TEST\n",
    "* G/A/Y(2004) 00:00 >>> 23.5.2000 00:00"
   ]
  },
  {
   "cell_type": "code",
   "execution_count": 7,
   "id": "dde9eea5-94d3-4db2-8248-4cb17842f699",
   "metadata": {},
   "outputs": [
    {
     "data": {
      "text/plain": [
       "['altindag', 'ankara', 'sakarya']"
      ]
     },
     "execution_count": 7,
     "metadata": {},
     "output_type": "execute_result"
    }
   ],
   "source": [
    "import re\n",
    "a=\"altindag/ankara sakarya\"\n",
    "result = re.split(r'[ ,/-]', a)\n",
    "result"
   ]
  },
  {
   "cell_type": "code",
   "execution_count": 20,
   "id": "274e2e8b-1940-4e6e-afea-b49f308edc47",
   "metadata": {},
   "outputs": [
    {
     "data": {
      "text/plain": [
       "['23-Jun-99']"
      ]
     },
     "execution_count": 20,
     "metadata": {},
     "output_type": "execute_result"
    }
   ],
   "source": [
    "a=\"23-Jun-99\"\n",
    "result = re.split(r'[ ]', a)\n",
    "result"
   ]
  },
  {
   "cell_type": "code",
   "execution_count": 41,
   "id": "a477d570-906f-4a90-af87-27a5830041c2",
   "metadata": {},
   "outputs": [
    {
     "data": {
      "text/plain": [
       "177"
      ]
     },
     "execution_count": 41,
     "metadata": {},
     "output_type": "execute_result"
    }
   ],
   "source": [
    "train['Dogum Tarihi'].isna().sum()"
   ]
  },
  {
   "cell_type": "code",
   "execution_count": 42,
   "id": "e9692184-6150-4e9c-be5a-bdb0065adfe7",
   "metadata": {},
   "outputs": [],
   "source": [
    "train['Dogum Tarihi'] = train['Dogum Tarihi'].fillna('missing')"
   ]
  },
  {
   "cell_type": "code",
   "execution_count": 49,
   "id": "90f94deb-f23c-4db7-a4eb-ef6ea1a9b633",
   "metadata": {},
   "outputs": [],
   "source": [
    "dropped_sifirlar = []\n",
    "def drop_sifirlar(df):\n",
    "    for label in df['Dogum Tarihi']:\n",
    "        if type(label) == 'float':\n",
    "            label = 'missing'\n",
    "            \n",
    "        else:\n",
    "            result = re.split(r'[ ]',label)   \n",
    "            if len(result) == 2:\n",
    "               label = result[0]\n",
    "        \n",
    "        dropped_sifirlar.append(label)\n",
    "            \n",
    "    return dropped_sifirlar\n",
    "\n",
    "asd = drop_sifirlar(train)\n",
    "\n",
    "train['Dogum Tarihi'] = asd"
   ]
  },
  {
   "cell_type": "code",
   "execution_count": 51,
   "id": "3dfc990e-1653-434a-b6a5-8b919eac006e",
   "metadata": {},
   "outputs": [],
   "source": [
    "train.to_csv('datas/sifirlar_dusuldu_train.csv')"
   ]
  },
  {
   "cell_type": "code",
   "execution_count": null,
   "id": "d64bc842-866c-4ddf-a04a-8fb8947706d4",
   "metadata": {},
   "outputs": [],
   "source": []
  }
 ],
 "metadata": {
  "kernelspec": {
   "display_name": "Python 3 (ipykernel)",
   "language": "python",
   "name": "python3"
  },
  "language_info": {
   "codemirror_mode": {
    "name": "ipython",
    "version": 3
   },
   "file_extension": ".py",
   "mimetype": "text/x-python",
   "name": "python",
   "nbconvert_exporter": "python",
   "pygments_lexer": "ipython3",
   "version": "3.12.4"
  }
 },
 "nbformat": 4,
 "nbformat_minor": 5
}
