{
 "cells": [
  {
   "cell_type": "code",
   "execution_count": 1,
   "id": "4196a785-8391-4759-b8dc-36f3b6694b2d",
   "metadata": {},
   "outputs": [],
   "source": [
    "import pandas as pd\n",
    "import numpy as np"
   ]
  },
  {
   "cell_type": "code",
   "execution_count": 2,
   "id": "ab858752-8e72-47e9-b0ec-39d62d1eb317",
   "metadata": {},
   "outputs": [],
   "source": [
    "train = pd.read_csv('datas/train.csv', low_memory=False)\n",
    "test = pd.read_csv('datas/test_x.csv', low_memory=False)"
   ]
  },
  {
   "cell_type": "markdown",
   "id": "a9efdd83-96b3-457d-91c4-f56ee09c7ac4",
   "metadata": {},
   "source": [
    "* G/A/Y >>> 23/5/2020\n",
    "* G Kasim Y >>> 23 5 2020\n",
    "* G-Jun-Y(93) >>> 23-Jun-99\n",
    "* Y-A-G >>> 2020-5-23\n",
    "* G/A/Y(99) 0:00 >>> 23/5/99 0:00\n",
    "* G.A.Y(2000) 00:00 >>> 23.5.2000 00:00\n",
    "* The TEST\n",
    "* G/A/Y(2004) 00:00 >>> 23.5.2000 00:00"
   ]
  },
  {
   "cell_type": "code",
   "execution_count": 3,
   "id": "a477d570-906f-4a90-af87-27a5830041c2",
   "metadata": {},
   "outputs": [
    {
     "data": {
      "text/plain": [
       "177"
      ]
     },
     "execution_count": 3,
     "metadata": {},
     "output_type": "execute_result"
    }
   ],
   "source": [
    "train['Dogum Tarihi'].isna().sum()"
   ]
  },
  {
   "cell_type": "code",
   "execution_count": 4,
   "id": "e9692184-6150-4e9c-be5a-bdb0065adfe7",
   "metadata": {},
   "outputs": [],
   "source": [
    "train['Dogum Tarihi'] = train['Dogum Tarihi'].fillna('missing')"
   ]
  },
  {
   "cell_type": "code",
   "execution_count": 5,
   "id": "90f94deb-f23c-4db7-a4eb-ef6ea1a9b633",
   "metadata": {},
   "outputs": [
    {
     "ename": "NameError",
     "evalue": "name 're' is not defined",
     "output_type": "error",
     "traceback": [
      "\u001b[1;31m---------------------------------------------------------------------------\u001b[0m",
      "\u001b[1;31mNameError\u001b[0m                                 Traceback (most recent call last)",
      "Cell \u001b[1;32mIn[5], line 16\u001b[0m\n\u001b[0;32m     12\u001b[0m         dropped_sifirlar\u001b[38;5;241m.\u001b[39mappend(label)\n\u001b[0;32m     14\u001b[0m     df[\u001b[38;5;124m'\u001b[39m\u001b[38;5;124mDogum Tarihi\u001b[39m\u001b[38;5;124m'\u001b[39m] \u001b[38;5;241m=\u001b[39m dropped_sifirlar\n\u001b[1;32m---> 16\u001b[0m drop_sifirlar(train)\n",
      "Cell \u001b[1;32mIn[5], line 8\u001b[0m, in \u001b[0;36mdrop_sifirlar\u001b[1;34m(df)\u001b[0m\n\u001b[0;32m      5\u001b[0m     label \u001b[38;5;241m=\u001b[39m \u001b[38;5;124m'\u001b[39m\u001b[38;5;124mmissing\u001b[39m\u001b[38;5;124m'\u001b[39m\n\u001b[0;32m      7\u001b[0m \u001b[38;5;28;01melse\u001b[39;00m:\n\u001b[1;32m----> 8\u001b[0m     result \u001b[38;5;241m=\u001b[39m re\u001b[38;5;241m.\u001b[39msplit(\u001b[38;5;124mr\u001b[39m\u001b[38;5;124m'\u001b[39m\u001b[38;5;124m[ ]\u001b[39m\u001b[38;5;124m'\u001b[39m,label)   \n\u001b[0;32m      9\u001b[0m     \u001b[38;5;28;01mif\u001b[39;00m \u001b[38;5;28mlen\u001b[39m(result) \u001b[38;5;241m==\u001b[39m \u001b[38;5;241m2\u001b[39m:\n\u001b[0;32m     10\u001b[0m        label \u001b[38;5;241m=\u001b[39m result[\u001b[38;5;241m0\u001b[39m]\n",
      "\u001b[1;31mNameError\u001b[0m: name 're' is not defined"
     ]
    }
   ],
   "source": [
    "def drop_sifirlar(df):\n",
    "    dropped_sifirlar = []\n",
    "    for label in df['Dogum Tarihi']:\n",
    "        if type(label) == 'float':\n",
    "            label = 'missing'\n",
    "            \n",
    "        else:\n",
    "            result = re.split(r'[ ]',label)   \n",
    "            if len(result) == 2:\n",
    "               label = result[0]\n",
    "        \n",
    "        dropped_sifirlar.append(label)\n",
    "            \n",
    "    df['Dogum Tarihi'] = dropped_sifirlar\n",
    "  \n",
    "drop_sifirlar(train)"
   ]
  },
  {
   "cell_type": "code",
   "execution_count": null,
   "id": "57de660c-92af-4f06-8960-ca75f4328d7d",
   "metadata": {},
   "outputs": [],
   "source": [
    "def kisa_cizgi_at(df):\n",
    "    # Use str.contains to find all indexes where 'Dogum Tarihi' contains '_'\n",
    "    indeksler = df[df['Dogum Tarihi'].str.contains('_', na=False)].index.tolist()\n",
    "    return indeksler\n",
    "\n",
    "sil_indexs = kisa_cizgi_at(train)\n",
    "train = train.drop(sil_indexs)\n",
    "train1 = train1.drop(sil_indexs)\n",
    "len(sil_indexs), len(train)\n",
    "train1.to_csv('datas/sadece_index_silindi.csv')"
   ]
  },
  {
   "cell_type": "code",
   "execution_count": null,
   "id": "0a61e740-4d65-45b8-8b09-0f34f871757e",
   "metadata": {},
   "outputs": [],
   "source": [
    "def sifirsizlari_yila_cevir(df):\n",
    "    yillar = []\n",
    "    for label in df['Dogum Tarihi']:    \n",
    "        result = re.split(r'[ /\\-.]', label)\n",
    "        lengt_bool = len(result) == 3\n",
    "        if lengt_bool:\n",
    "            if int(result[0]) > 35:\n",
    "                yillar.append(result[0])\n",
    "            elif int(result[2]) > 150:\n",
    "                yillar.append(result[2])\n",
    "            elif int(result[2]) < 150:\n",
    "                if int(result[2]) > 50:\n",
    "                    yillar.append('19' + result[2])\n",
    "                elif int(result[2]) < 50:\n",
    "                    yillar.append('20' + result[2])\n",
    "                else:\n",
    "                    yillar.append('unknown 2 digit')\n",
    "    \n",
    "            else: \n",
    "                yillar.append('unknown')\n",
    "        else:\n",
    "            yillar.append('unknown_notdigit')\n",
    "\n",
    "    df['Dogum Tarihi'] = yillar\n",
    "\n",
    "sifirsizlari_yila_cevir(train)"
   ]
  },
  {
   "cell_type": "code",
   "execution_count": null,
   "id": "73e3e108-0904-4e6c-b727-eea1fd6d55ce",
   "metadata": {},
   "outputs": [],
   "source": [
    "array1 = train['Dogum Tarihi'].value_counts()\n",
    "# En az olanlari atmak icin sondakileri aldik arraya\n",
    "array1 = array1[15:]\n",
    "array1 = np.array(array1.keys())\n",
    "# arrayden 55 ve 99 u cikaralim. Aratirken hata firlatiyor.\n",
    "array1 = np.delete(array1, np.where(array1 == '55'))\n",
    "array1 = np.delete(array1, np.where(array1 == '99'))\n",
    "array1"
   ]
  },
  {
   "cell_type": "code",
   "execution_count": null,
   "id": "130a44aa-2168-4627-bbcc-b355822bd81c",
   "metadata": {},
   "outputs": [],
   "source": [
    "# Yanlis veya aykiri olan tarihleri attik\n",
    "def yanlis_tarihleri_at(df, tarih):\n",
    "    indeksler = df[df['Dogum Tarihi'].str.contains(tarih, na=False, regex=False)].index.tolist()\n",
    "        \n",
    "    return indeksler"
   ]
  },
  {
   "cell_type": "code",
   "execution_count": null,
   "id": "c09c5d57-1695-4f96-a610-8134c2c4f9a2",
   "metadata": {},
   "outputs": [],
   "source": [
    "silinecek_indeksler = []\n",
    "for label in array1:\n",
    "    print(label)\n",
    "    indeksler = yanlis_tarihleri_at(train, label)\n",
    "    silinecek_indeksler += indeksler\n",
    "\n",
    "silinecek_indeksler, len(silinecek_indeksler)"
   ]
  },
  {
   "cell_type": "code",
   "execution_count": null,
   "id": "4333e2a0-c940-4e88-a30f-952cdb7a4994",
   "metadata": {},
   "outputs": [],
   "source": [
    "# Silinecekleri sildik\n",
    "train = train.drop(silinecek_indeksler)"
   ]
  },
  {
   "cell_type": "code",
   "execution_count": null,
   "id": "3d33b055-032a-46b5-8b82-72240021d459",
   "metadata": {},
   "outputs": [],
   "source": [
    "array = train['Dogum Tarihi'].value_counts()"
   ]
  },
  {
   "cell_type": "code",
   "execution_count": null,
   "id": "b0d23deb-f385-4427-8bb0-e045f6aba414",
   "metadata": {},
   "outputs": [],
   "source": [
    "train['Basvuru Yili'].value_counts()"
   ]
  },
  {
   "cell_type": "code",
   "execution_count": null,
   "id": "2c62fad7-9955-4251-88af-71a3295387c7",
   "metadata": {},
   "outputs": [],
   "source": [
    "train['Basvuru Yili'] = train['Basvuru Yili'].astype('int')\n",
    "train['Dogum Tarihi'] = train['Dogum Tarihi'].astype('int')\n",
    "train['Yas'] = train['Basvuru Yili'] - train['Dogum Tarihi']"
   ]
  },
  {
   "cell_type": "code",
   "execution_count": null,
   "id": "b0e8609f-6269-496f-924a-a641a7256207",
   "metadata": {},
   "outputs": [],
   "source": [
    "train['Yas'].value_counts()"
   ]
  },
  {
   "cell_type": "code",
   "execution_count": null,
   "id": "88395c04-d428-4587-9f46-cd47d1295f44",
   "metadata": {},
   "outputs": [],
   "source": [
    "values_to_drop=[1964, 1918, 16, 14, 31, 45, 29, 30, 28, 27, 17, 44, 26]\n",
    "indexes_to_drop = train[train['Yas'].isin(values_to_drop)].index\n",
    "\n",
    "train = train.drop(indexes_to_drop)"
   ]
  },
  {
   "cell_type": "markdown",
   "id": "a2e954c9-5b72-4c8b-8ee8-47231de668cb",
   "metadata": {},
   "source": [
    "### Test datayi donustur"
   ]
  },
  {
   "cell_type": "code",
   "execution_count": null,
   "id": "25619258-9a1c-48cc-8350-a35f51311566",
   "metadata": {},
   "outputs": [],
   "source": [
    "drop_sifirlar(test)"
   ]
  },
  {
   "cell_type": "code",
   "execution_count": null,
   "id": "eaca0d35-e3fb-4836-a6ca-01f5501566df",
   "metadata": {},
   "outputs": [],
   "source": [
    "kisa_cizgi_at(test)"
   ]
  },
  {
   "cell_type": "code",
   "execution_count": null,
   "id": "a1def50e-a3a9-42ae-a01a-ec2b348ae598",
   "metadata": {},
   "outputs": [],
   "source": [
    "sifirsizlari_yila_cevir(test)"
   ]
  },
  {
   "cell_type": "code",
   "execution_count": null,
   "id": "07c1fb3a-3799-44d3-ac1a-ba70a7fbf1b9",
   "metadata": {},
   "outputs": [],
   "source": [
    "test['Basvuru Yili'] = test['Basvuru Yili'].astype('int')\n",
    "test['Dogum Tarihi'] = test['Dogum Tarihi'].astype('int')\n",
    "test['Yas'] = test['Basvuru Yili'] - test['Dogum Tarihi']"
   ]
  },
  {
   "cell_type": "code",
   "execution_count": null,
   "id": "666dcd87-379c-4952-a123-3edbf45978c9",
   "metadata": {},
   "outputs": [],
   "source": [
    "test['Yas'].value_counts()"
   ]
  },
  {
   "cell_type": "code",
   "execution_count": null,
   "id": "3dfc990e-1653-434a-b6a5-8b919eac006e",
   "metadata": {},
   "outputs": [],
   "source": [
    "train.to_csv('datas/yasinSonu_train.csv')"
   ]
  },
  {
   "cell_type": "code",
   "execution_count": null,
   "id": "0f3ee70e-da85-40f3-a38d-8f1e6a463da7",
   "metadata": {},
   "outputs": [],
   "source": [
    "test.to_csv('datas/yasinSonu_test.csv')"
   ]
  }
 ],
 "metadata": {
  "kernelspec": {
   "display_name": "Python 3 (ipykernel)",
   "language": "python",
   "name": "python3"
  },
  "language_info": {
   "codemirror_mode": {
    "name": "ipython",
    "version": 3
   },
   "file_extension": ".py",
   "mimetype": "text/x-python",
   "name": "python",
   "nbconvert_exporter": "python",
   "pygments_lexer": "ipython3",
   "version": "3.12.4"
  }
 },
 "nbformat": 4,
 "nbformat_minor": 5
}
